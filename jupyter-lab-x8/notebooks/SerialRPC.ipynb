{
 "cells": [
  {
   "cell_type": "code",
   "execution_count": null,
   "id": "f7636b10-746e-436b-a52e-2e4afa9a127a",
   "metadata": {},
   "outputs": [],
   "source": [
    "import msgpackrpc"
   ]
  },
  {
   "cell_type": "markdown",
   "id": "bc465b09-32d1-4f82-9995-cb81f9aea970",
   "metadata": {},
   "source": [
    "Import the `msgpackrpc-python` library.\n",
    "\n",
    "We need the version from [with_tornado_453](https://github.com/xaedes/msgpack-rpc-python/tree/with_tornado_453) branch."
   ]
  },
  {
   "cell_type": "code",
   "execution_count": null,
   "id": "6a3b9fae-2e98-429d-a5bb-1cfd6d4d684a",
   "metadata": {},
   "outputs": [],
   "source": [
    "m4_proxy_register = msgpackrpc.Address('m4-proxy', 5000)\n",
    "client = msgpackrpc.Client(m4_proxy_register)"
   ]
  },
  {
   "cell_type": "markdown",
   "id": "03cac49e-b7c9-46bc-a775-99e396c32bd3",
   "metadata": {},
   "source": [
    "Create the RPC client.\n",
    "\n",
    "> **TL;DR** The `m4-proxy` hostname points to `host-gateway`, that Docker will resolve to the current address of the X8 as network node.\n",
    "\n",
    "> **NOTE**: The `m4-proxy` is a service that runs as a native service inside the X8's Linux microPlaftorm. Furthermore `m4-proxy` forwards the RPC calls from the M4 only to RPC server running on localhost – ie on the very X8 – and discards the host part of the `host:port` TCP address pair.\n",
    "Because this Jupyter instance – as wall as all the customer applications – runs inside a Docker container, we need a way to reach the X8 as a network host from the Docker container. This is done by registering a special hostname via the `--add-host` parameter from the `docker` CLI or with the `extra-hosts` key in the `docker-compose.yml` file.\n",
    "\n"
   ]
  },
  {
   "cell_type": "code",
   "execution_count": null,
   "id": "eaa5ac38-c5aa-45cc-8259-da3f74276457",
   "metadata": {},
   "outputs": [],
   "source": [
    "client.call('register', 5015, ['tty'])"
   ]
  },
  {
   "cell_type": "markdown",
   "id": "53ae1048-cfd7-4120-9041-1e2ec6a1a728",
   "metadata": {},
   "source": [
    "Register this Python script as an RPC server that expose the `tty` service on the `5015` port."
   ]
  },
  {
   "cell_type": "code",
   "execution_count": null,
   "id": "81900c9d-4743-4793-8906-00727e583410",
   "metadata": {},
   "outputs": [],
   "source": [
    "class SerialRPC(object):\n",
    "    def tty(self, msg):\n",
    "        print(f'{msg.decode()}', end=None)"
   ]
  },
  {
   "cell_type": "markdown",
   "id": "1a69ff3e-e378-4824-98f9-56a0dd4cc1e0",
   "metadata": {},
   "source": [
    "Create a class that holds the implementations for all the procedure that this service exposes.\n",
    "\n",
    "> **NOTE**: The `tty` procedure is a special procedure that gets called by the Arduino SerialRPC library.\n",
    "When an Arduino Sketch includes the `<SerialRPC.h>` header, all the `Serial` calls are actually RPC calls to the `tty` procedure, passing the string to print as parameter."
   ]
  },
  {
   "cell_type": "code",
   "execution_count": null,
   "id": "3900d153-4a33-4644-90e9-a0d00200bdc5",
   "metadata": {},
   "outputs": [],
   "source": [
    "try:\n",
    "    rpc_server = msgpackrpc.Server(SerialRPC())\n",
    "    rpc_server.listen(msgpackrpc.Address(\"localhost\", 5015))\n",
    "    rpc_server.start()\n",
    "except KeyboardInterrupt:\n",
    "    rpc_server.stop()\n",
    "    rpc_server.close()"
   ]
  },
  {
   "cell_type": "markdown",
   "id": "f8d022a4-69ec-461d-a87c-15c5f0b72265",
   "metadata": {},
   "source": [
    "Create the RPC Server and wait incoming RPC calls"
   ]
  }
 ],
 "metadata": {
  "kernelspec": {
   "display_name": "Python 3 (ipykernel)",
   "language": "python",
   "name": "python3"
  },
  "language_info": {
   "codemirror_mode": {
    "name": "ipython",
    "version": 3
   },
   "file_extension": ".py",
   "mimetype": "text/x-python",
   "name": "python",
   "nbconvert_exporter": "python",
   "pygments_lexer": "ipython3",
   "version": "3.9.12"
  }
 },
 "nbformat": 4,
 "nbformat_minor": 5
}
