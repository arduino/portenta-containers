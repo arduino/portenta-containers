{
 "cells": [
  {
   "cell_type": "code",
   "execution_count": null,
   "id": "b737e8df-44e5-4de6-9977-3cb66bf0ae8a",
   "metadata": {},
   "outputs": [],
   "source": [
    "import msgpackrpc"
   ]
  },
  {
   "cell_type": "code",
   "execution_count": null,
   "id": "9c6a222a-c204-450e-bff1-5532a220ffd6",
   "metadata": {
    "tags": []
   },
   "outputs": [],
   "source": [
    "m4_proxy_rpc = msgpackrpc.Address('m4-proxy', 5001)"
   ]
  },
  {
   "cell_type": "code",
   "execution_count": null,
   "id": "07def5ff-bea6-43f5-a8e0-1f265bd8d03c",
   "metadata": {},
   "outputs": [],
   "source": [
    "client = msgpackrpc.Client(m4_proxy_rpc)\n",
    "client.call('sum', 1, 2)"
   ]
  },
  {
   "cell_type": "code",
   "execution_count": null,
   "id": "8f080a88-10dd-4e0c-8b3b-0296c40ec3f5",
   "metadata": {},
   "outputs": [],
   "source": [
    "client = msgpackrpc.Client(m4_proxy_rpc)\n",
    "client.call('multiply', 42, 45)"
   ]
  },
  {
   "cell_type": "code",
   "execution_count": null,
   "id": "6bd5e9c6-8641-4026-9065-02115a069c8c",
   "metadata": {},
   "outputs": [],
   "source": [
    "client = msgpackrpc.Client(m4_proxy_rpc)\n",
    "client.call('subtract', 1890, 3)"
   ]
  },
  {
   "cell_type": "code",
   "execution_count": null,
   "id": "f2345c14-3a7b-41aa-9d7c-fd203af8c763",
   "metadata": {},
   "outputs": [],
   "source": [
    "client = msgpackrpc.Client(m4_proxy_rpc)\n",
    "client.call('divide', 49, 3)"
   ]
  }
 ],
 "metadata": {
  "kernelspec": {
   "display_name": "Python 3 (ipykernel)",
   "language": "python",
   "name": "python3"
  },
  "language_info": {
   "codemirror_mode": {
    "name": "ipython",
    "version": 3
   },
   "file_extension": ".py",
   "mimetype": "text/x-python",
   "name": "python",
   "nbconvert_exporter": "python",
   "pygments_lexer": "ipython3",
   "version": "3.9.12"
  }
 },
 "nbformat": 4,
 "nbformat_minor": 5
}
