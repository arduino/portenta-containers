{
 "cells": [
  {
   "cell_type": "code",
   "execution_count": 3,
   "id": "fd91c2ca-94cf-4911-8411-9980907d483d",
   "metadata": {},
   "outputs": [],
   "source": [
    "import msgpackrpc"
   ]
  },
  {
   "cell_type": "code",
   "execution_count": 4,
   "id": "cdff9dd8-82f8-4ac4-9552-e6c8c28e7ba3",
   "metadata": {},
   "outputs": [],
   "source": [
    "class BME280:\n",
    "    def __init__(self, host, port):\n",
    "        self.__host = host\n",
    "        self.__port = port\n",
    "        self.__address = msgpackrpc.Address(self.__host, self.__port)\n",
    "    \n",
    "    def __getSensor(self, sensor):\n",
    "        client = msgpackrpc.Client(self.__address)\n",
    "        return client.call(sensor)\n",
    "    \n",
    "    def __getStatus(self):\n",
    "        return self.__getSensor('status')\n",
    "\n",
    "    def __getTemperature(self):\n",
    "        return self.__getSensor('temperature')\n",
    "\n",
    "    def __getHumidity(self):\n",
    "        return self.__getSensor('humidity')\n",
    "\n",
    "    def __getPressure(self):\n",
    "        return self.__getSensor('pressure')\n",
    "\n",
    "    @property\n",
    "    def status(self):\n",
    "        return self.__getStatus()     \n",
    "    \n",
    "    @property\n",
    "    def temperature(self):\n",
    "        return self.__getTemperature()\n",
    "\n",
    "    @property\n",
    "    def humidity(self):\n",
    "        return self.__getHumidity()\n",
    "   \n",
    "    @property\n",
    "    def pressure(self):\n",
    "        return self.__getPressure()\n",
    "    "
   ]
  },
  {
   "cell_type": "code",
   "execution_count": 5,
   "id": "d2152ca0-1ab0-4f5f-b0a0-50a1b5dc2e5c",
   "metadata": {},
   "outputs": [],
   "source": [
    "bme280 = BME280('m4-proxy', 5001)"
   ]
  },
  {
   "cell_type": "code",
   "execution_count": 6,
   "id": "323b0424-f26e-45c8-b92c-18a9d2b55b29",
   "metadata": {},
   "outputs": [
    {
     "data": {
      "text/plain": [
       "26.260000228881836"
      ]
     },
     "execution_count": 6,
     "metadata": {},
     "output_type": "execute_result"
    }
   ],
   "source": [
    "bme280.temperature"
   ]
  },
  {
   "cell_type": "code",
   "execution_count": 7,
   "id": "663aa62c-09fd-4d02-b8d4-5e4a0b60482d",
   "metadata": {},
   "outputs": [
    {
     "data": {
      "text/plain": [
       "True"
      ]
     },
     "execution_count": 7,
     "metadata": {},
     "output_type": "execute_result"
    }
   ],
   "source": [
    "bme280.status"
   ]
  },
  {
   "cell_type": "code",
   "execution_count": 8,
   "id": "2977949b-0360-40f7-9026-db3e3138261b",
   "metadata": {},
   "outputs": [
    {
     "data": {
      "text/plain": [
       "42.32421875"
      ]
     },
     "execution_count": 8,
     "metadata": {},
     "output_type": "execute_result"
    }
   ],
   "source": [
    "bme280.humidity"
   ]
  },
  {
   "cell_type": "code",
   "execution_count": 9,
   "id": "f9ed08f7-c934-42d6-9e6c-6dc5451e8552",
   "metadata": {},
   "outputs": [
    {
     "data": {
      "text/plain": [
       "986.843017578125"
      ]
     },
     "execution_count": 9,
     "metadata": {},
     "output_type": "execute_result"
    }
   ],
   "source": [
    "bme280.pressure"
   ]
  }
 ],
 "metadata": {
  "kernelspec": {
   "display_name": "Python 3 (ipykernel)",
   "language": "python",
   "name": "python3"
  },
  "language_info": {
   "codemirror_mode": {
    "name": "ipython",
    "version": 3
   },
   "file_extension": ".py",
   "mimetype": "text/x-python",
   "name": "python",
   "nbconvert_exporter": "python",
   "pygments_lexer": "ipython3",
   "version": "3.9.12"
  }
 },
 "nbformat": 4,
 "nbformat_minor": 5
}
